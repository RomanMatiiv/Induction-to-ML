{
 "cells": [
  {
   "cell_type": "code",
   "execution_count": 1,
   "metadata": {
    "collapsed": true
   },
   "outputs": [],
   "source": [
    "import pandas as pd\n",
    "import numpy as np"
   ]
  },
  {
   "cell_type": "code",
   "execution_count": 14,
   "metadata": {
    "collapsed": false
   },
   "outputs": [],
   "source": [
    "data=pd.read_csv(\"titanic.csv\",index_col='PassengerId')"
   ]
  },
  {
   "cell_type": "code",
   "execution_count": 15,
   "metadata": {
    "collapsed": false
   },
   "outputs": [
    {
     "data": {
      "text/html": [
       "<div>\n",
       "<table border=\"1\" class=\"dataframe\">\n",
       "  <thead>\n",
       "    <tr style=\"text-align: right;\">\n",
       "      <th></th>\n",
       "      <th>Survived</th>\n",
       "      <th>Pclass</th>\n",
       "      <th>Name</th>\n",
       "      <th>Sex</th>\n",
       "      <th>Age</th>\n",
       "      <th>SibSp</th>\n",
       "      <th>Parch</th>\n",
       "      <th>Ticket</th>\n",
       "      <th>Fare</th>\n",
       "      <th>Cabin</th>\n",
       "      <th>Embarked</th>\n",
       "    </tr>\n",
       "    <tr>\n",
       "      <th>PassengerId</th>\n",
       "      <th></th>\n",
       "      <th></th>\n",
       "      <th></th>\n",
       "      <th></th>\n",
       "      <th></th>\n",
       "      <th></th>\n",
       "      <th></th>\n",
       "      <th></th>\n",
       "      <th></th>\n",
       "      <th></th>\n",
       "      <th></th>\n",
       "    </tr>\n",
       "  </thead>\n",
       "  <tbody>\n",
       "    <tr>\n",
       "      <th>1</th>\n",
       "      <td>0</td>\n",
       "      <td>3</td>\n",
       "      <td>Braund, Mr. Owen Harris</td>\n",
       "      <td>male</td>\n",
       "      <td>22.0</td>\n",
       "      <td>1</td>\n",
       "      <td>0</td>\n",
       "      <td>A/5 21171</td>\n",
       "      <td>7.2500</td>\n",
       "      <td>NaN</td>\n",
       "      <td>S</td>\n",
       "    </tr>\n",
       "    <tr>\n",
       "      <th>2</th>\n",
       "      <td>1</td>\n",
       "      <td>1</td>\n",
       "      <td>Cumings, Mrs. John Bradley (Florence Briggs Th...</td>\n",
       "      <td>female</td>\n",
       "      <td>38.0</td>\n",
       "      <td>1</td>\n",
       "      <td>0</td>\n",
       "      <td>PC 17599</td>\n",
       "      <td>71.2833</td>\n",
       "      <td>C85</td>\n",
       "      <td>C</td>\n",
       "    </tr>\n",
       "    <tr>\n",
       "      <th>3</th>\n",
       "      <td>1</td>\n",
       "      <td>3</td>\n",
       "      <td>Heikkinen, Miss. Laina</td>\n",
       "      <td>female</td>\n",
       "      <td>26.0</td>\n",
       "      <td>0</td>\n",
       "      <td>0</td>\n",
       "      <td>STON/O2. 3101282</td>\n",
       "      <td>7.9250</td>\n",
       "      <td>NaN</td>\n",
       "      <td>S</td>\n",
       "    </tr>\n",
       "    <tr>\n",
       "      <th>4</th>\n",
       "      <td>1</td>\n",
       "      <td>1</td>\n",
       "      <td>Futrelle, Mrs. Jacques Heath (Lily May Peel)</td>\n",
       "      <td>female</td>\n",
       "      <td>35.0</td>\n",
       "      <td>1</td>\n",
       "      <td>0</td>\n",
       "      <td>113803</td>\n",
       "      <td>53.1000</td>\n",
       "      <td>C123</td>\n",
       "      <td>S</td>\n",
       "    </tr>\n",
       "    <tr>\n",
       "      <th>5</th>\n",
       "      <td>0</td>\n",
       "      <td>3</td>\n",
       "      <td>Allen, Mr. William Henry</td>\n",
       "      <td>male</td>\n",
       "      <td>35.0</td>\n",
       "      <td>0</td>\n",
       "      <td>0</td>\n",
       "      <td>373450</td>\n",
       "      <td>8.0500</td>\n",
       "      <td>NaN</td>\n",
       "      <td>S</td>\n",
       "    </tr>\n",
       "  </tbody>\n",
       "</table>\n",
       "</div>"
      ],
      "text/plain": [
       "             Survived  Pclass  \\\n",
       "PassengerId                     \n",
       "1                   0       3   \n",
       "2                   1       1   \n",
       "3                   1       3   \n",
       "4                   1       1   \n",
       "5                   0       3   \n",
       "\n",
       "                                                          Name     Sex   Age  \\\n",
       "PassengerId                                                                    \n",
       "1                                      Braund, Mr. Owen Harris    male  22.0   \n",
       "2            Cumings, Mrs. John Bradley (Florence Briggs Th...  female  38.0   \n",
       "3                                       Heikkinen, Miss. Laina  female  26.0   \n",
       "4                 Futrelle, Mrs. Jacques Heath (Lily May Peel)  female  35.0   \n",
       "5                                     Allen, Mr. William Henry    male  35.0   \n",
       "\n",
       "             SibSp  Parch            Ticket     Fare Cabin Embarked  \n",
       "PassengerId                                                          \n",
       "1                1      0         A/5 21171   7.2500   NaN        S  \n",
       "2                1      0          PC 17599  71.2833   C85        C  \n",
       "3                0      0  STON/O2. 3101282   7.9250   NaN        S  \n",
       "4                1      0            113803  53.1000  C123        S  \n",
       "5                0      0            373450   8.0500   NaN        S  "
      ]
     },
     "execution_count": 15,
     "metadata": {},
     "output_type": "execute_result"
    }
   ],
   "source": [
    "data.head()"
   ]
  },
  {
   "cell_type": "code",
   "execution_count": 124,
   "metadata": {
    "collapsed": false
   },
   "outputs": [
    {
     "data": {
      "text/html": [
       "<div>\n",
       "<table border=\"1\" class=\"dataframe\">\n",
       "  <thead>\n",
       "    <tr style=\"text-align: right;\">\n",
       "      <th></th>\n",
       "      <th>Survived</th>\n",
       "      <th>Pclass</th>\n",
       "      <th>Age</th>\n",
       "      <th>SibSp</th>\n",
       "      <th>Parch</th>\n",
       "      <th>Fare</th>\n",
       "    </tr>\n",
       "  </thead>\n",
       "  <tbody>\n",
       "    <tr>\n",
       "      <th>count</th>\n",
       "      <td>891.000000</td>\n",
       "      <td>891.000000</td>\n",
       "      <td>714.000000</td>\n",
       "      <td>891.000000</td>\n",
       "      <td>891.000000</td>\n",
       "      <td>891.000000</td>\n",
       "    </tr>\n",
       "    <tr>\n",
       "      <th>mean</th>\n",
       "      <td>0.383838</td>\n",
       "      <td>2.308642</td>\n",
       "      <td>29.699118</td>\n",
       "      <td>0.523008</td>\n",
       "      <td>0.381594</td>\n",
       "      <td>32.204208</td>\n",
       "    </tr>\n",
       "    <tr>\n",
       "      <th>std</th>\n",
       "      <td>0.486592</td>\n",
       "      <td>0.836071</td>\n",
       "      <td>14.526497</td>\n",
       "      <td>1.102743</td>\n",
       "      <td>0.806057</td>\n",
       "      <td>49.693429</td>\n",
       "    </tr>\n",
       "    <tr>\n",
       "      <th>min</th>\n",
       "      <td>0.000000</td>\n",
       "      <td>1.000000</td>\n",
       "      <td>0.420000</td>\n",
       "      <td>0.000000</td>\n",
       "      <td>0.000000</td>\n",
       "      <td>0.000000</td>\n",
       "    </tr>\n",
       "    <tr>\n",
       "      <th>25%</th>\n",
       "      <td>0.000000</td>\n",
       "      <td>2.000000</td>\n",
       "      <td>20.125000</td>\n",
       "      <td>0.000000</td>\n",
       "      <td>0.000000</td>\n",
       "      <td>7.910400</td>\n",
       "    </tr>\n",
       "    <tr>\n",
       "      <th>50%</th>\n",
       "      <td>0.000000</td>\n",
       "      <td>3.000000</td>\n",
       "      <td>28.000000</td>\n",
       "      <td>0.000000</td>\n",
       "      <td>0.000000</td>\n",
       "      <td>14.454200</td>\n",
       "    </tr>\n",
       "    <tr>\n",
       "      <th>75%</th>\n",
       "      <td>1.000000</td>\n",
       "      <td>3.000000</td>\n",
       "      <td>38.000000</td>\n",
       "      <td>1.000000</td>\n",
       "      <td>0.000000</td>\n",
       "      <td>31.000000</td>\n",
       "    </tr>\n",
       "    <tr>\n",
       "      <th>max</th>\n",
       "      <td>1.000000</td>\n",
       "      <td>3.000000</td>\n",
       "      <td>80.000000</td>\n",
       "      <td>8.000000</td>\n",
       "      <td>6.000000</td>\n",
       "      <td>512.329200</td>\n",
       "    </tr>\n",
       "  </tbody>\n",
       "</table>\n",
       "</div>"
      ],
      "text/plain": [
       "         Survived      Pclass         Age       SibSp       Parch        Fare\n",
       "count  891.000000  891.000000  714.000000  891.000000  891.000000  891.000000\n",
       "mean     0.383838    2.308642   29.699118    0.523008    0.381594   32.204208\n",
       "std      0.486592    0.836071   14.526497    1.102743    0.806057   49.693429\n",
       "min      0.000000    1.000000    0.420000    0.000000    0.000000    0.000000\n",
       "25%      0.000000    2.000000   20.125000    0.000000    0.000000    7.910400\n",
       "50%      0.000000    3.000000   28.000000    0.000000    0.000000   14.454200\n",
       "75%      1.000000    3.000000   38.000000    1.000000    0.000000   31.000000\n",
       "max      1.000000    3.000000   80.000000    8.000000    6.000000  512.329200"
      ]
     },
     "execution_count": 124,
     "metadata": {},
     "output_type": "execute_result"
    }
   ],
   "source": [
    "data.describe()"
   ]
  },
  {
   "cell_type": "code",
   "execution_count": 34,
   "metadata": {
    "collapsed": false
   },
   "outputs": [
    {
     "name": "stdout",
     "output_type": "stream",
     "text": [
      "male      577\n",
      "female    314\n",
      "Name: Sex, dtype: int64\n"
     ]
    }
   ],
   "source": [
    "a=data[\"Sex\"].value_counts()\n",
    "print a"
   ]
  },
  {
   "cell_type": "code",
   "execution_count": 35,
   "metadata": {
    "collapsed": false
   },
   "outputs": [],
   "source": [
    "f1=open(\"f1.txt\",'w')\n",
    "f1.write(\"%d %d\" %(a[0],a[1]))\n",
    "f1.close()"
   ]
  },
  {
   "cell_type": "markdown",
   "metadata": {},
   "source": [
    "### 2"
   ]
  },
  {
   "cell_type": "code",
   "execution_count": 39,
   "metadata": {
    "collapsed": false
   },
   "outputs": [
    {
     "name": "stdout",
     "output_type": "stream",
     "text": [
      "0    549\n",
      "1    342\n",
      "Name: Survived, dtype: int64\n"
     ]
    }
   ],
   "source": [
    "surv=data['Survived'].value_counts()\n",
    "print surv"
   ]
  },
  {
   "cell_type": "code",
   "execution_count": 82,
   "metadata": {
    "collapsed": false
   },
   "outputs": [],
   "source": [
    "survived=round((float(surv[1])/(surv[0]+surv[1]))*100,2)\n",
    "f2=open(\"f2.txt\",'w')\n",
    "f2.write(\"%0.2f\"%survived)\n",
    "f2.close()"
   ]
  },
  {
   "cell_type": "markdown",
   "metadata": {},
   "source": [
    "### 3"
   ]
  },
  {
   "cell_type": "code",
   "execution_count": 112,
   "metadata": {
    "collapsed": false
   },
   "outputs": [
    {
     "name": "stdout",
     "output_type": "stream",
     "text": [
      "3    491\n",
      "1    216\n",
      "2    184\n",
      "Name: Pclass, dtype: int64\n"
     ]
    }
   ],
   "source": [
    "cl=data[\"Pclass\"].value_counts()\n",
    "print cl"
   ]
  },
  {
   "cell_type": "code",
   "execution_count": 113,
   "metadata": {
    "collapsed": false
   },
   "outputs": [],
   "source": [
    "f3=open(\"f3.txt\",\"w\")\n",
    "tmp=round((float(cl[1])/((cl[3]+cl[2]+cl[1])))*100,2)\n",
    "f3.write(\"%0.2f\"%tmp)\n",
    "f3.close()\n"
   ]
  },
  {
   "cell_type": "markdown",
   "metadata": {},
   "source": [
    "### 4"
   ]
  },
  {
   "cell_type": "code",
   "execution_count": 136,
   "metadata": {
    "collapsed": false
   },
   "outputs": [
    {
     "data": {
      "text/plain": [
       "count    714.000000\n",
       "mean      29.699118\n",
       "std       14.526497\n",
       "min        0.420000\n",
       "25%       20.125000\n",
       "50%       28.000000\n",
       "75%       38.000000\n",
       "max       80.000000\n",
       "Name: Age, dtype: float64"
      ]
     },
     "execution_count": 136,
     "metadata": {},
     "output_type": "execute_result"
    }
   ],
   "source": [
    "age=data[\"Age\"].describe()\n",
    "age"
   ]
  },
  {
   "cell_type": "code",
   "execution_count": 138,
   "metadata": {
    "collapsed": false
   },
   "outputs": [],
   "source": [
    "f4=open(\"f4.txt\",'w')\n",
    "f4.write(\"%0.2f %d\"%(age[1],age[5]))\n",
    "f4.close()"
   ]
  },
  {
   "cell_type": "code",
   "execution_count": 134,
   "metadata": {
    "collapsed": false
   },
   "outputs": [
    {
     "name": "stdout",
     "output_type": "stream",
     "text": [
      "29.6991176471 28.0\n"
     ]
    }
   ],
   "source": [
    "print age[1],age[5]"
   ]
  },
  {
   "cell_type": "markdown",
   "metadata": {},
   "source": [
    "### 5"
   ]
  },
  {
   "cell_type": "code",
   "execution_count": 153,
   "metadata": {
    "collapsed": false
   },
   "outputs": [
    {
     "data": {
      "text/plain": [
       "0.41483769862015263"
      ]
     },
     "execution_count": 153,
     "metadata": {},
     "output_type": "execute_result"
    }
   ],
   "source": [
    "tmp=data.corr(method='pearson')\n",
    "tmp[\"SibSp\"]['Parch']"
   ]
  },
  {
   "cell_type": "code",
   "execution_count": 154,
   "metadata": {
    "collapsed": false
   },
   "outputs": [],
   "source": [
    "f5=open(\"f5.txt\",\"w\")\n",
    "f5.write(\"%0.2f\" %(tmp[\"SibSp\"]['Parch']))\n",
    "f5.close()"
   ]
  },
  {
   "cell_type": "markdown",
   "metadata": {},
   "source": [
    "### 6"
   ]
  },
  {
   "cell_type": "code",
   "execution_count": 260,
   "metadata": {
    "collapsed": false
   },
   "outputs": [],
   "source": [
    "tmp=data[\"Name\"]"
   ]
  },
  {
   "cell_type": "code",
   "execution_count": 261,
   "metadata": {
    "collapsed": false
   },
   "outputs": [
    {
     "data": {
      "text/plain": [
       "891"
      ]
     },
     "execution_count": 261,
     "metadata": {},
     "output_type": "execute_result"
    }
   ],
   "source": [
    "len(tmp)"
   ]
  },
  {
   "cell_type": "code",
   "execution_count": null,
   "metadata": {
    "collapsed": true
   },
   "outputs": [],
   "source": [
    "for i in tmp:\n",
    "    "
   ]
  },
  {
   "cell_type": "code",
   "execution_count": 262,
   "metadata": {
    "collapsed": false
   },
   "outputs": [],
   "source": [
    "f_name=[]\n",
    "for i in tmp:\n",
    "    tmp=i.split(\". \")\n",
    "    if ('Mr'not in tmp[0]):\n",
    "        tmp2=tmp[1].split(\" \")\n",
    "        f_name.append(tmp2[0])"
   ]
  },
  {
   "cell_type": "code",
   "execution_count": 264,
   "metadata": {
    "collapsed": false
   },
   "outputs": [
    {
     "data": {
      "text/plain": [
       "['Laina',\n",
       " 'Gosta',\n",
       " 'Marguerite',\n",
       " 'Elizabeth',\n",
       " 'Hulda',\n",
       " 'Eugene',\n",
       " 'Anna',\n",
       " 'Torborg',\n",
       " 'Ellen',\n",
       " 'Manuel',\n",
       " 'Mary',\n",
       " 'Augusta',\n",
       " 'Jamila',\n",
       " 'Simonne',\n",
       " 'Margaret',\n",
       " 'Bridget',\n",
       " 'Juha',\n",
       " 'Emily',\n",
       " 'Constance',\n",
       " 'William',\n",
       " 'Amelie',\n",
       " 'Harald',\n",
       " 'Gerios',\n",
       " 'Erna',\n",
       " 'Lillian',\n",
       " 'Alden',\n",
       " 'Elizabeth',\n",
       " 'Brigdet',\n",
       " 'Bertha',\n",
       " 'Mabel',\n",
       " 'Matilda',\n",
       " 'Anna',\n",
       " 'Bertha',\n",
       " 'Hileni',\n",
       " 'Katriina',\n",
       " 'Malake',\n",
       " 'Ellis',\n",
       " 'Susan',\n",
       " 'Elias',\n",
       " 'Anna',\n",
       " 'Helen',\n",
       " 'Anna',\n",
       " 'Robina',\n",
       " 'Thomas',\n",
       " 'Robert',\n",
       " 'Katherine',\n",
       " 'Thomas',\n",
       " 'Eino',\n",
       " 'Frank',\n",
       " 'Arthur',\n",
       " 'Eleanor',\n",
       " 'Henry',\n",
       " 'Ann',\n",
       " 'Constance',\n",
       " 'Clarence',\n",
       " 'Richard',\n",
       " 'Luise',\n",
       " 'Carla',\n",
       " 'Michel',\n",
       " 'Elise',\n",
       " 'Margaret',\n",
       " 'Henriette',\n",
       " 'Telma',\n",
       " 'Helen',\n",
       " 'Clear',\n",
       " 'Madeleine',\n",
       " 'Eliina',\n",
       " 'Albina',\n",
       " 'Mathilde',\n",
       " 'Lillian',\n",
       " 'Alice',\n",
       " 'Marjorie',\n",
       " 'Thamine',\n",
       " 'Katherine',\n",
       " 'William',\n",
       " 'Agda',\n",
       " 'Ernest',\n",
       " 'Gladys',\n",
       " 'Anna',\n",
       " 'Edvin',\n",
       " 'Delia',\n",
       " 'Amelia',\n",
       " 'Hanora',\n",
       " 'Kornelia',\n",
       " 'Augusta',\n",
       " 'Eric',\n",
       " 'Kate',\n",
       " 'Ellen',\n",
       " 'Aloisia',\n",
       " 'Helen',\n",
       " 'Anna',\n",
       " 'Nora',\n",
       " 'Hudson',\n",
       " 'Margaret',\n",
       " 'Laura',\n",
       " 'Margaret',\n",
       " 'Emily',\n",
       " 'Helmina',\n",
       " 'Ernest',\n",
       " 'Mary',\n",
       " 'Hilda',\n",
       " 'Marie',\n",
       " 'Jean',\n",
       " 'Agnes',\n",
       " 'Elizabeth',\n",
       " 'Edmond',\n",
       " 'Alice',\n",
       " 'Amelia',\n",
       " 'Marion',\n",
       " 'William',\n",
       " 'Elsie',\n",
       " 'Annie',\n",
       " 'Mary',\n",
       " 'Helen',\n",
       " 'Annie',\n",
       " 'Leontine',\n",
       " 'Stina',\n",
       " 'Aurora',\n",
       " 'Rosalie',\n",
       " 'Maria',\n",
       " 'Sidney',\n",
       " 'Kate',\n",
       " 'Bertha',\n",
       " 'Marjorie',\n",
       " 'Elina',\n",
       " 'Alfred',\n",
       " 'Mari',\n",
       " 'Marija',\n",
       " 'William',\n",
       " 'Ida',\n",
       " 'Daisy',\n",
       " 'Lyyli',\n",
       " 'Catharina',\n",
       " 'Kate',\n",
       " 'Lucile',\n",
       " 'Doolina',\n",
       " 'Encarnacion',\n",
       " 'Washington',\n",
       " 'Madeleine',\n",
       " 'Marie',\n",
       " 'Arthur',\n",
       " 'Ellen',\n",
       " 'Helene',\n",
       " 'Ida',\n",
       " 'Hildur',\n",
       " 'Harold',\n",
       " 'Jeannie',\n",
       " 'Eden',\n",
       " 'Elizabeth',\n",
       " 'Mary',\n",
       " 'Bridget',\n",
       " 'Kristina',\n",
       " 'Roberta',\n",
       " 'Anne',\n",
       " 'Lucy',\n",
       " 'Phyllis',\n",
       " 'Marija',\n",
       " 'Eva',\n",
       " 'Archibald',\n",
       " 'Bertha',\n",
       " 'Hedwig',\n",
       " 'Harriet',\n",
       " 'Ingeborg',\n",
       " 'Sigrid',\n",
       " 'John',\n",
       " 'Velin',\n",
       " '(Lucille',\n",
       " '(Marion',\n",
       " 'Mary',\n",
       " 'Ethel',\n",
       " 'Julie',\n",
       " 'Ruth',\n",
       " 'Mary',\n",
       " 'Jessie',\n",
       " 'Cosmo',\n",
       " 'Elizabeth',\n",
       " 'Margaret',\n",
       " 'Alice',\n",
       " 'Marion',\n",
       " 'Charles',\n",
       " 'Gretchen',\n",
       " 'Max',\n",
       " 'Mabel',\n",
       " 'Mary',\n",
       " 'Emma',\n",
       " 'Margit',\n",
       " 'Eugenie',\n",
       " 'Oberst',\n",
       " 'Amy',\n",
       " 'Elsie',\n",
       " 'Hanora',\n",
       " 'Hanora',\n",
       " 'Henry',\n",
       " 'Anna',\n",
       " 'Katie',\n",
       " 'Georgette',\n",
       " 'Manca',\n",
       " 'John',\n",
       " 'Katherine',\n",
       " 'Saiide',\n",
       " 'Alice',\n",
       " 'Halim',\n",
       " 'Berthe',\n",
       " 'Caroline',\n",
       " 'Edwina',\n",
       " 'Annie',\n",
       " 'Margareth',\n",
       " 'Pieta',\n",
       " 'Elisabeth',\n",
       " 'Susan',\n",
       " 'Edward',\n",
       " 'Anna',\n",
       " 'Joan',\n",
       " 'Meier',\n",
       " 'Viljo',\n",
       " 'of',\n",
       " 'Arthur',\n",
       " 'Mary',\n",
       " 'Virginia',\n",
       " 'Banoura',\n",
       " 'Anna',\n",
       " 'George',\n",
       " 'Bertram',\n",
       " 'Stella',\n",
       " 'Alice',\n",
       " 'William',\n",
       " 'Assad',\n",
       " 'Ellen',\n",
       " 'Ebba',\n",
       " 'Wendla',\n",
       " 'Karl',\n",
       " 'John',\n",
       " 'Urho',\n",
       " 'Andre',\n",
       " 'George',\n",
       " 'Sara',\n",
       " 'Augusta',\n",
       " 'John',\n",
       " 'Sigvard',\n",
       " 'Nourelain',\n",
       " 'Mary',\n",
       " 'Dorothy',\n",
       " 'Asuncion',\n",
       " 'Harold',\n",
       " 'Adele',\n",
       " 'Gerda',\n",
       " 'Juozas',\n",
       " 'Margaret',\n",
       " 'Catherine']"
      ]
     },
     "execution_count": 264,
     "metadata": {},
     "output_type": "execute_result"
    }
   ],
   "source": [
    "f_name"
   ]
  },
  {
   "cell_type": "code",
   "execution_count": 236,
   "metadata": {
    "collapsed": false
   },
   "outputs": [],
   "source": [
    "d={'Name':f_name}\n",
    "df=pd.DataFrame(data=d)"
   ]
  },
  {
   "cell_type": "code",
   "execution_count": 237,
   "metadata": {
    "collapsed": false
   },
   "outputs": [
    {
     "data": {
      "text/plain": [
       "Andersson        6\n",
       "Lefebre          4\n",
       "Sage             4\n",
       "Rice             4\n",
       "Goodwin          4\n",
       "Skoog            4\n",
       "Palsson          3\n",
       "Asplund          3\n",
       "Baclini          3\n",
       "Panula           3\n",
       "Carter           3\n",
       "Nicola-Yarred    2\n",
       "Ford             2\n",
       "Allison          2\n",
       "Zabour           2\n",
       "Crosby           2\n",
       "Fortune          2\n",
       "Johnson          2\n",
       "Jussila          2\n",
       "Minahan          2\n",
       "Murphy           2\n",
       "Richards         2\n",
       "Newell           2\n",
       "Ryerson          2\n",
       "Becker           2\n",
       "Coutts           2\n",
       "Kelly            2\n",
       "Moubarek         2\n",
       "Harper           2\n",
       "Navratil         2\n",
       "                ..\n",
       "Haas             1\n",
       "Moor             1\n",
       "Ohman            1\n",
       "Johnston         1\n",
       "Peter            1\n",
       "McCoy            1\n",
       "Hippach          1\n",
       "Cleaver          1\n",
       "Frauenthal       1\n",
       "Kirkland         1\n",
       "Hegarty          1\n",
       "Van Impe         1\n",
       "Andrews          1\n",
       "Gilnagh          1\n",
       "Wells            1\n",
       "Sinkkonen        1\n",
       "Collyer          1\n",
       "LeRoy            1\n",
       "Vestrom          1\n",
       "Mellinger        1\n",
       "Glynn            1\n",
       "Bonnell          1\n",
       "Devaney          1\n",
       "Meanwell         1\n",
       "Boulos           1\n",
       "Dahlberg         1\n",
       "Goldsmith        1\n",
       "O'Driscoll       1\n",
       "Jermyn           1\n",
       "Cacic            1\n",
       "Name: Name, dtype: int64"
      ]
     },
     "execution_count": 237,
     "metadata": {},
     "output_type": "execute_result"
    }
   ],
   "source": [
    "df['Name'].value_counts()"
   ]
  },
  {
   "cell_type": "code",
   "execution_count": 238,
   "metadata": {
    "collapsed": false
   },
   "outputs": [],
   "source": [
    "f6=open(\"f6.txt\",\"w\")\n",
    "f6.write(\"Lefebre\")\n",
    "f6.close()"
   ]
  },
  {
   "cell_type": "code",
   "execution_count": null,
   "metadata": {
    "collapsed": true
   },
   "outputs": [],
   "source": []
  },
  {
   "cell_type": "code",
   "execution_count": null,
   "metadata": {
    "collapsed": true
   },
   "outputs": [],
   "source": []
  },
  {
   "cell_type": "code",
   "execution_count": 272,
   "metadata": {
    "collapsed": false
   },
   "outputs": [],
   "source": [
    "d={\"Name\":data[\"Name\"],\"Sex\":data['Sex']}\n",
    "tmp=pd.DataFrame(d)"
   ]
  },
  {
   "cell_type": "code",
   "execution_count": 274,
   "metadata": {
    "collapsed": false
   },
   "outputs": [
    {
     "data": {
      "text/html": [
       "<div>\n",
       "<table border=\"1\" class=\"dataframe\">\n",
       "  <thead>\n",
       "    <tr style=\"text-align: right;\">\n",
       "      <th></th>\n",
       "      <th>Name</th>\n",
       "      <th>Sex</th>\n",
       "    </tr>\n",
       "    <tr>\n",
       "      <th>PassengerId</th>\n",
       "      <th></th>\n",
       "      <th></th>\n",
       "    </tr>\n",
       "  </thead>\n",
       "  <tbody>\n",
       "    <tr>\n",
       "      <th>1</th>\n",
       "      <td>Braund, Mr. Owen Harris</td>\n",
       "      <td>male</td>\n",
       "    </tr>\n",
       "    <tr>\n",
       "      <th>2</th>\n",
       "      <td>Cumings, Mrs. John Bradley (Florence Briggs Th...</td>\n",
       "      <td>female</td>\n",
       "    </tr>\n",
       "    <tr>\n",
       "      <th>3</th>\n",
       "      <td>Heikkinen, Miss. Laina</td>\n",
       "      <td>female</td>\n",
       "    </tr>\n",
       "    <tr>\n",
       "      <th>4</th>\n",
       "      <td>Futrelle, Mrs. Jacques Heath (Lily May Peel)</td>\n",
       "      <td>female</td>\n",
       "    </tr>\n",
       "    <tr>\n",
       "      <th>5</th>\n",
       "      <td>Allen, Mr. William Henry</td>\n",
       "      <td>male</td>\n",
       "    </tr>\n",
       "  </tbody>\n",
       "</table>\n",
       "</div>"
      ],
      "text/plain": [
       "                                                          Name     Sex\n",
       "PassengerId                                                           \n",
       "1                                      Braund, Mr. Owen Harris    male\n",
       "2            Cumings, Mrs. John Bradley (Florence Briggs Th...  female\n",
       "3                                       Heikkinen, Miss. Laina  female\n",
       "4                 Futrelle, Mrs. Jacques Heath (Lily May Peel)  female\n",
       "5                                     Allen, Mr. William Henry    male"
      ]
     },
     "execution_count": 274,
     "metadata": {},
     "output_type": "execute_result"
    }
   ],
   "source": [
    "tmp.head()"
   ]
  },
  {
   "cell_type": "code",
   "execution_count": 275,
   "metadata": {
    "collapsed": true
   },
   "outputs": [],
   "source": [
    "tmp=tmp[tmp.Sex!=\"male\"]\n",
    "    \n",
    "    "
   ]
  },
  {
   "cell_type": "code",
   "execution_count": 276,
   "metadata": {
    "collapsed": false
   },
   "outputs": [
    {
     "data": {
      "text/html": [
       "<div>\n",
       "<table border=\"1\" class=\"dataframe\">\n",
       "  <thead>\n",
       "    <tr style=\"text-align: right;\">\n",
       "      <th></th>\n",
       "      <th>Name</th>\n",
       "      <th>Sex</th>\n",
       "    </tr>\n",
       "    <tr>\n",
       "      <th>PassengerId</th>\n",
       "      <th></th>\n",
       "      <th></th>\n",
       "    </tr>\n",
       "  </thead>\n",
       "  <tbody>\n",
       "    <tr>\n",
       "      <th>2</th>\n",
       "      <td>Cumings, Mrs. John Bradley (Florence Briggs Th...</td>\n",
       "      <td>female</td>\n",
       "    </tr>\n",
       "    <tr>\n",
       "      <th>3</th>\n",
       "      <td>Heikkinen, Miss. Laina</td>\n",
       "      <td>female</td>\n",
       "    </tr>\n",
       "    <tr>\n",
       "      <th>4</th>\n",
       "      <td>Futrelle, Mrs. Jacques Heath (Lily May Peel)</td>\n",
       "      <td>female</td>\n",
       "    </tr>\n",
       "    <tr>\n",
       "      <th>9</th>\n",
       "      <td>Johnson, Mrs. Oscar W (Elisabeth Vilhelmina Berg)</td>\n",
       "      <td>female</td>\n",
       "    </tr>\n",
       "    <tr>\n",
       "      <th>10</th>\n",
       "      <td>Nasser, Mrs. Nicholas (Adele Achem)</td>\n",
       "      <td>female</td>\n",
       "    </tr>\n",
       "  </tbody>\n",
       "</table>\n",
       "</div>"
      ],
      "text/plain": [
       "                                                          Name     Sex\n",
       "PassengerId                                                           \n",
       "2            Cumings, Mrs. John Bradley (Florence Briggs Th...  female\n",
       "3                                       Heikkinen, Miss. Laina  female\n",
       "4                 Futrelle, Mrs. Jacques Heath (Lily May Peel)  female\n",
       "9            Johnson, Mrs. Oscar W (Elisabeth Vilhelmina Berg)  female\n",
       "10                         Nasser, Mrs. Nicholas (Adele Achem)  female"
      ]
     },
     "execution_count": 276,
     "metadata": {},
     "output_type": "execute_result"
    }
   ],
   "source": [
    "tmp.head()"
   ]
  },
  {
   "cell_type": "code",
   "execution_count": 302,
   "metadata": {
    "collapsed": false
   },
   "outputs": [],
   "source": [
    "name=[]\n",
    "tmp=tmp['Name']\n",
    "for i in tmp:\n",
    "    tmp2=i.split(\". \")\n",
    "    tmp3=tmp2[1].split(' ')\n",
    "    name.append(tmp3[0])"
   ]
  },
  {
   "cell_type": "code",
   "execution_count": 308,
   "metadata": {
    "collapsed": false
   },
   "outputs": [
    {
     "data": {
      "text/plain": [
       "314"
      ]
     },
     "execution_count": 308,
     "metadata": {},
     "output_type": "execute_result"
    }
   ],
   "source": [
    "len(name)"
   ]
  },
  {
   "cell_type": "code",
   "execution_count": 304,
   "metadata": {
    "collapsed": false
   },
   "outputs": [],
   "source": [
    "d={'Name':name}\n",
    "name=pd.DataFrame(d)"
   ]
  },
  {
   "cell_type": "code",
   "execution_count": 307,
   "metadata": {
    "collapsed": false
   },
   "outputs": [
    {
     "data": {
      "text/plain": [
       "William       13\n",
       "Anna           9\n",
       "Mary           9\n",
       "Elizabeth      6\n",
       "Margaret       6\n",
       "Thomas         6\n",
       "John           6\n",
       "Frederick      5\n",
       "Alice          5\n",
       "James          4\n",
       "Ellen          4\n",
       "Helen          4\n",
       "Edward         4\n",
       "Bertha         4\n",
       "Katherine      3\n",
       "Samuel         3\n",
       "Kate           3\n",
       "Annie          3\n",
       "Hanora         3\n",
       "Charles        3\n",
       "Augusta        3\n",
       "Henry          3\n",
       "Joseph         3\n",
       "Catherine      2\n",
       "Mabel          2\n",
       "Marjorie       2\n",
       "Alexander      2\n",
       "Marija         2\n",
       "Lillian        2\n",
       "Bridget        2\n",
       "              ..\n",
       "Agnes          1\n",
       "Katie          1\n",
       "Percival       1\n",
       "Ingeborg       1\n",
       "Lucile         1\n",
       "Leopold        1\n",
       "Edgar          1\n",
       "(Rosa)         1\n",
       "Amelie         1\n",
       "Joan           1\n",
       "Amy            1\n",
       "Carl           1\n",
       "Lyyli          1\n",
       "Catharina      1\n",
       "Gladys         1\n",
       "Erna           1\n",
       "Sigrid         1\n",
       "Norman         1\n",
       "(Karolina)     1\n",
       "Edwy           1\n",
       "Sinai          1\n",
       "Gretchen       1\n",
       "Edwina         1\n",
       "(Beila)        1\n",
       "Eliina         1\n",
       "Dickinson      1\n",
       "Leontine       1\n",
       "Harvey         1\n",
       "(Ada           1\n",
       "Richard        1\n",
       "Name: Name, dtype: int64"
      ]
     },
     "execution_count": 307,
     "metadata": {},
     "output_type": "execute_result"
    }
   ],
   "source": [
    "name[\"Name\"].value_counts()"
   ]
  },
  {
   "cell_type": "code",
   "execution_count": 311,
   "metadata": {
    "collapsed": true
   },
   "outputs": [],
   "source": [
    "f6=open(\"f6.txt\",\"w\")\n",
    "f6.write(\"Anna\")\n",
    "f6.close()"
   ]
  },
  {
   "cell_type": "code",
   "execution_count": null,
   "metadata": {
    "collapsed": true
   },
   "outputs": [],
   "source": []
  }
 ],
 "metadata": {
  "kernelspec": {
   "display_name": "Python 2",
   "language": "python",
   "name": "python2"
  },
  "language_info": {
   "codemirror_mode": {
    "name": "ipython",
    "version": 2
   },
   "file_extension": ".py",
   "mimetype": "text/x-python",
   "name": "python",
   "nbconvert_exporter": "python",
   "pygments_lexer": "ipython2",
   "version": "2.7.11"
  }
 },
 "nbformat": 4,
 "nbformat_minor": 0
}
