{
 "cells": [
  {
   "cell_type": "code",
   "execution_count": null,
   "metadata": {
    "collapsed": true
   },
   "outputs": [],
   "source": [
    "%matplotlib inline\n",
    "from matplotlib import pylab\n",
    "\n",
    "from skimage.io import imread\n",
    "from skimage import img_as_float\n",
    "\n",
    "import pandas as pd\n",
    "\n",
    "from sklearn.cluster import KMeans\n",
    "\n",
    "import math"
   ]
  },
  {
   "cell_type": "markdown",
   "metadata": {},
   "source": [
    "# 1\n",
    "Загрузите картинку parrots.jpg. Преобразуйте изображение, приведя все значения в интервал от 0 до 1. Для этого можно воспользоваться функцией img_as_float из модуля skimage. Обратите внимание на этот шаг, так как при работе с исходным изображением вы получите некорректный результат."
   ]
  },
  {
   "cell_type": "code",
   "execution_count": null,
   "metadata": {
    "collapsed": true
   },
   "outputs": [],
   "source": [
    "image=imread(\"parrots.jpg\")"
   ]
  },
  {
   "cell_type": "code",
   "execution_count": null,
   "metadata": {
    "collapsed": true
   },
   "outputs": [],
   "source": [
    "imageN=img_as_float(image)"
   ]
  },
  {
   "cell_type": "markdown",
   "metadata": {},
   "source": [
    "# 2\n",
    "Создайте матрицу объекты-признаки: характеризуйте каждый пиксель тремя координатами - значениями интенсивности в пространстве RGB."
   ]
  },
  {
   "cell_type": "code",
   "execution_count": null,
   "metadata": {
    "collapsed": true
   },
   "outputs": [],
   "source": [
    "arr=[]\n",
    "for i in imageN:\n",
    "    for j in i:\n",
    "        arr.append((j[0],j[1],j[2]))"
   ]
  },
  {
   "cell_type": "code",
   "execution_count": null,
   "metadata": {
    "collapsed": true
   },
   "outputs": [],
   "source": [
    "data=pd.DataFrame(arr,columns=[\"R\",\"G\",\"B\"])"
   ]
  },
  {
   "cell_type": "markdown",
   "metadata": {},
   "source": [
    "# 3\n",
    "Запустите алгоритм K-Means с параметрами init='k-means++' и random_state=241. После выделения кластеров все пиксели, отнесенные в один кластер, попробуйте заполнить двумя способами: медианным и средним цветом по кластеру."
   ]
  },
  {
   "cell_type": "code",
   "execution_count": null,
   "metadata": {
    "collapsed": true
   },
   "outputs": [],
   "source": [
    "km=KMeans(init='k-means++',random_state=241)"
   ]
  },
  {
   "cell_type": "code",
   "execution_count": null,
   "metadata": {
    "collapsed": true
   },
   "outputs": [],
   "source": [
    "clusters=km.fit_predict(data)"
   ]
  },
  {
   "cell_type": "code",
   "execution_count": null,
   "metadata": {
    "collapsed": true
   },
   "outputs": [],
   "source": [
    "clusters=pd.DataFrame(clusters,columns=[\"Cluster\"])"
   ]
  },
  {
   "cell_type": "code",
   "execution_count": null,
   "metadata": {
    "collapsed": true
   },
   "outputs": [],
   "source": [
    "dataC=pd.concat([data,clusters],axis=1)"
   ]
  },
  {
   "cell_type": "code",
   "execution_count": null,
   "metadata": {},
   "outputs": [],
   "source": [
    "# Среднее\n",
    "Mean=dataC.pivot_table([\"R\",\"G\",\"B\"],columns=\"Cluster\",aggfunc=\"mean\")\n",
    "Mean"
   ]
  },
  {
   "cell_type": "code",
   "execution_count": null,
   "metadata": {},
   "outputs": [],
   "source": [
    "# Медианная\n",
    "Median=dataC.pivot_table([\"R\",\"G\",\"B\"],columns=\"Cluster\",aggfunc=\"median\")\n",
    "Median"
   ]
  },
  {
   "cell_type": "code",
   "execution_count": null,
   "metadata": {
    "collapsed": true
   },
   "outputs": [],
   "source": [
    "dataMedian=dataC.copy()\n",
    "for i in range(8):\n",
    "    dataMedian.R[dataMedian.Cluster==i]=Median[i][2]\n",
    "    dataMedian.G[dataMedian.Cluster==i]=Median[i][1]\n",
    "    dataMedian.B[dataMedian.Cluster==i]=Median[i][0]\n",
    "    \n",
    "        \n",
    "dataMean=dataC.copy()\n",
    "for i in range(8):\n",
    "    dataMean.R[dataMean.Cluster==i]=Mean[i][2]\n",
    "    dataMean.G[dataMean.Cluster==i]=Mean[i][1]\n",
    "    dataMean.B[dataMean.Cluster==i]=Mean[i][0]"
   ]
  },
  {
   "cell_type": "markdown",
   "metadata": {},
   "source": [
    "# 4 - косяк\n",
    "Измерьте качество получившейся сегментации с помощью метрики PSNR. Эту метрику нужно реализовать самостоятельно"
   ]
  },
  {
   "cell_type": "code",
   "execution_count": null,
   "metadata": {
    "collapsed": true
   },
   "outputs": [],
   "source": [
    "# PSNR\n",
    "# нужно без столбца clucter\n",
    "def PSNR(a,b):\n",
    "    arr=[]\n",
    "    for i in range(a.shape[0]):\n",
    "        tmp=[]\n",
    "        for j in range(a.shape[1]):\n",
    "            tmp.append((a.iloc[i,j]-b.iloc[i,j])**2)\n",
    "        arr.append(sum(tmp))\n",
    "    MSE=sum(arr)/len(arr)\n",
    "    MAX=1#Максимальное значениесреди всех пикселей\n",
    "    return 10*math.log10(MAX**2/MSE)"
   ]
  },
  {
   "cell_type": "code",
   "execution_count": null,
   "metadata": {},
   "outputs": [],
   "source": [
    "print(\"Среднее {0}\".format(PSNR(dataC.iloc[:,:-1],dataMean.iloc[:,:-1])))\n",
    "print(\"Медианная {0}\".format(PSNR(dataC.iloc[:,:-1],dataMedian.iloc[:,:-1])))"
   ]
  },
  {
   "cell_type": "markdown",
   "metadata": {},
   "source": [
    "# 5\n",
    "Найдите минимальное количество кластеров, при котором значение PSNR выше 20 (можно рассмотреть не более 20 кластеров, но не забудьте рассмотреть оба способа заполнения пикселей одного кластера). Это число и будет ответом в данной задаче."
   ]
  },
  {
   "cell_type": "code",
   "execution_count": null,
   "metadata": {},
   "outputs": [],
   "source": [
    "# не правильно  тк метрику не правильно реализовал\n",
    "for j in range(20,21):\n",
    "    km=KMeans( n_clusters=j,init='k-means++',random_state=241)\n",
    "    clusters=km.fit_predict(data)\n",
    "    clusters=pd.DataFrame(clusters,columns=[\"Cluster\"])\n",
    "    dataC=pd.concat([data,clusters],axis=1)\n",
    "    Mean=dataC.pivot_table([\"R\",\"G\",\"B\"],columns=\"Cluster\",aggfunc=\"mean\")\n",
    "    Median=dataC.pivot_table([\"R\",\"G\",\"B\"],columns=\"Cluster\",aggfunc=\"median\")\n",
    "    \n",
    "    dataMedian=dataC.copy()\n",
    "    dataMean=dataC.copy()\n",
    "    for i in range(j):\n",
    "        dataMedian.R[dataMedian.Cluster==i]=Median[i][2]\n",
    "        dataMedian.G[dataMedian.Cluster==i]=Median[i][1]\n",
    "        dataMedian.B[dataMedian.Cluster==i]=Median[i][0]\n",
    "        dataMean.R[dataMean.Cluster==i]=Mean[i][2]\n",
    "        dataMean.G[dataMean.Cluster==i]=Mean[i][1]\n",
    "        dataMean.B[dataMean.Cluster==i]=Mean[i][0]\n",
    "        \n",
    "    print(j)    \n",
    "    print(\"Среднее {0}\".format(PSNR(dataC.iloc[:,:-1],dataMean.iloc[:,:-1])))\n",
    "    print(\"Медианная {0}\".format(PSNR(dataC.iloc[:,:-1],dataMedian.iloc[:,:-1])))\n",
    "    print()"
   ]
  },
  {
   "cell_type": "code",
   "execution_count": null,
   "metadata": {
    "collapsed": true
   },
   "outputs": [],
   "source": [
    "from skimage.measure import compare_psnr # - использую готову метрику"
   ]
  },
  {
   "cell_type": "code",
   "execution_count": null,
   "metadata": {},
   "outputs": [],
   "source": [
    "compare_psnr(dataC.iloc[:,:-1].as_matrix(),dataMean.iloc[:,:-1].as_matrix())"
   ]
  },
  {
   "cell_type": "code",
   "execution_count": null,
   "metadata": {},
   "outputs": [],
   "source": [
    "for j in range(10,21):\n",
    "    km=KMeans( n_clusters=j,init='k-means++',random_state=241)\n",
    "    clusters=km.fit_predict(data)\n",
    "    clusters=pd.DataFrame(clusters,columns=[\"Cluster\"])\n",
    "    dataC=pd.concat([data,clusters],axis=1)\n",
    "    Mean=dataC.pivot_table([\"R\",\"G\",\"B\"],columns=\"Cluster\",aggfunc=\"mean\")\n",
    "    Median=dataC.pivot_table([\"R\",\"G\",\"B\"],columns=\"Cluster\",aggfunc=\"median\")\n",
    "    \n",
    "    dataMedian=dataC.copy()\n",
    "    dataMean=dataC.copy()\n",
    "    for i in range(j):\n",
    "        dataMedian.R[dataMedian.Cluster==i]=Median[i][2]\n",
    "        dataMedian.G[dataMedian.Cluster==i]=Median[i][1]\n",
    "        dataMedian.B[dataMedian.Cluster==i]=Median[i][0]\n",
    "        dataMean.R[dataMean.Cluster==i]=Mean[i][2]\n",
    "        dataMean.G[dataMean.Cluster==i]=Mean[i][1]\n",
    "        dataMean.B[dataMean.Cluster==i]=Mean[i][0]\n",
    "        \n",
    "    print(j)    \n",
    "    print(\"Среднее {0}\".format(compare_psnr(dataC.iloc[:,:-1].as_matrix(),dataMean.iloc[:,:-1].as_matrix())))\n",
    "    print(\"Медианная {0}\".format(compare_psnr(dataC.iloc[:,:-1].as_matrix(),dataMedian.iloc[:,:-1].as_matrix())  ))\n",
    "    print()"
   ]
  },
  {
   "cell_type": "code",
   "execution_count": 1,
   "metadata": {
    "collapsed": true
   },
   "outputs": [],
   "source": [
    "with open(\"a1.txt\",\"w\") as f:\n",
    "    f.write(\"11\")"
   ]
  }
 ],
 "metadata": {
  "kernelspec": {
   "display_name": "Python 2",
   "language": "python",
   "name": "python2"
  },
  "language_info": {
   "codemirror_mode": {
    "name": "ipython",
    "version": 2
   },
   "file_extension": ".py",
   "mimetype": "text/x-python",
   "name": "python",
   "nbconvert_exporter": "python",
   "pygments_lexer": "ipython2",
   "version": "2.7.13"
  }
 },
 "nbformat": 4,
 "nbformat_minor": 2
}
